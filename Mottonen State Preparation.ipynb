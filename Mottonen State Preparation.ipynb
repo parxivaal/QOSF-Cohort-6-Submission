{
 "cells": [
  {
   "cell_type": "code",
   "execution_count": 431,
   "id": "663bea01-6821-4df2-bce7-79d361140f7d",
   "metadata": {
    "tags": []
   },
   "outputs": [],
   "source": [
    "# Preparing a Quantum State using Qiskit Framework\n",
    "# Basically, Implementation of the paper : https://arxiv.org/pdf/quant-ph/0407010\n",
    "import numpy as np\n",
    "import math\n",
    "import pennylane as qml\n",
    "from qiskit import QuantumCircuit\n",
    "from qiskit.visualization import *"
   ]
  },
  {
   "cell_type": "code",
   "execution_count": 432,
   "id": "0a92cff3-6302-4896-8b09-ac38dc08962d",
   "metadata": {
    "tags": []
   },
   "outputs": [],
   "source": [
    "# Generates the Gray code of given rank\n",
    "def graycode(rank):\n",
    "    # Rank = Integer\n",
    "    def gray_code_recurse(g, rank):\n",
    "        k = len(g)\n",
    "        \n",
    "        if rank <= 0:\n",
    "            return\n",
    "        for i in range(k - 1, -1, -1):\n",
    "            char = \"1\" + g[i]\n",
    "            g.append(char)\n",
    "        for i in range(k - 1, -1, -1):\n",
    "            g[i] = \"0\" + g[i]\n",
    "        gray_code_recurse(g, rank - 1)\n",
    "        \n",
    "    g = [\"0\", \"1\"]\n",
    "    gray_code_recurse(g, rank - 1)\n",
    "    \n",
    "    return g"
   ]
  },
  {
   "cell_type": "code",
   "execution_count": 433,
   "id": "195954f7-b19a-4a2e-afa0-3541cedcad13",
   "metadata": {
    "tags": []
   },
   "outputs": [],
   "source": [
    "# Function that provides us with gray code of input Integer\n",
    "def gray(n):\n",
    "    # n = Integer\n",
    "    n ^= (n >> 1)\n",
    "    return bin(n)[2:]\n",
    "\n",
    "# Function that gives dot product of binary array of integer i and gray code array of integer j\n",
    "def dotP(i,j):\n",
    "    binary = np.unpackbits(np.array([int(np.binary_repr(i),2)],dtype=np.uint8))\n",
    "    gcode = np.unpackbits(np.array([int(gray(j),2)],dtype=np.uint8))\n",
    "    \n",
    "    sum1s = np.dot(binary,gcode)\n",
    "    return sum1s"
   ]
  },
  {
   "cell_type": "code",
   "execution_count": 434,
   "id": "c87997cf-c7a5-4c63-a2e7-1ddacc9c80b3",
   "metadata": {
    "tags": []
   },
   "outputs": [],
   "source": [
    "# Maps the angles alpha of the multi-controlled rotations decomposition of a uniformly controlled rotation \n",
    "# to the rotation angles theta used in the Gray code implementation\n",
    "def compute_theta(alpha):\n",
    "    # Alpha = numpy Array\n",
    "    k = np.log2(len(alpha))\n",
    "    N = int(2**k)\n",
    "    \n",
    "    M = np.empty((N,N))\n",
    "    for i in range(N):\n",
    "        for j in range(N):\n",
    "            M[i,j] = (1/2**(k))*((-1)**dotP(j,i))\n",
    "            \n",
    "    theta = np.matmul(M,alpha)\n",
    "    return theta # numpy Array"
   ]
  },
  {
   "cell_type": "code",
   "execution_count": 435,
   "id": "8047a716-1f57-46d6-a8d9-510ab30b7248",
   "metadata": {
    "tags": []
   },
   "outputs": [],
   "source": [
    "# Here, we compute the array of angles AlphaZ using the Equation (5), from the paper\n",
    "def alpha_z(omega, n, k):\n",
    "    # omega = phases of the desired state (Array)\n",
    "    # n = total Qubits for Uniformly Controlled Rotation\n",
    "    # k = index of Target Qubit\n",
    "    alpha = []\n",
    "    for j in range(2**(n-k)):\n",
    "        angle = 0\n",
    "        \n",
    "        for l in range(2**(k-1)):\n",
    "            angle = angle + (omega[(2*(j+1)-1)*(2**(k-1))+(l)] - omega[(2*(j+1)-2)*(2**(k-1))+(l)])/(2**(k-1))\n",
    "            \n",
    "        alpha.append(angle)\n",
    "    return alpha # numpy Array"
   ]
  },
  {
   "cell_type": "code",
   "execution_count": 436,
   "id": "682d47f5-567d-442e-864a-9db616604275",
   "metadata": {
    "tags": []
   },
   "outputs": [],
   "source": [
    "# This function computes the array of angles AlphaY using the Equation (8), from the paper\n",
    "def alpha_y(a, n, k):\n",
    "    # a = absolute values of the desired state\n",
    "    # n = total Qubits for Uniformly Controlled Rotation\n",
    "    # k = index of Target Qubit\n",
    "    alpha = []\n",
    "    for j in range(2**(n-k)):\n",
    "        num = 0\n",
    "        denom = 0\n",
    "        \n",
    "        for l in range(2**(k-1)):\n",
    "            num = num + abs(a[(2*(j+1)-1)*(2**(k-1))+l])**2\n",
    "            \n",
    "        for l in range(2**k):\n",
    "            denom = denom + abs(a[j*(2**k)+l])**2\n",
    "            \n",
    "        angle = 2*(math.asin(np.sqrt(num/denom)))\n",
    "        alpha.append(angle)\n",
    "    return alpha # numpy Array"
   ]
  },
  {
   "cell_type": "code",
   "execution_count": 437,
   "id": "02b9f02e-6c06-47b7-b716-847057cdf298",
   "metadata": {
    "tags": []
   },
   "outputs": [],
   "source": [
    "# Here, we create an uniformly controlled RY rotation gate\n",
    "def rotation_y(alpha, control_q, target_q):\n",
    "    # alpha = angles to decompose the uniformly-controlled rotation into multi-controlled rotations (Array)\n",
    "    # control_q = Array of control qubits\n",
    "    # target_q = index of target qubit\n",
    "    \n",
    "    qc = QuantumCircuit(len(control_q)+1)\n",
    "    theta = compute_theta(alpha)\n",
    "    gray_code_rank = len(control_q)\n",
    "    \n",
    "    if gray_code_rank == 0:\n",
    "        if theta[0] != 0.0:\n",
    "            qc.ry(theta[0], target_q)\n",
    "        return qc\n",
    "    \n",
    "    code = graycode(gray_code_rank)\n",
    "    num_selections = len(code)\n",
    "\n",
    "    control_indices = [int(np.log2(int(code[i], 2) ^ int(code[(i + 1) % num_selections], 2))) for i in range(num_selections)]\n",
    "\n",
    "    for i, control_index in enumerate(control_indices):\n",
    "        if theta[i] != 0.0:\n",
    "            qc.ry(theta[i], target_q)\n",
    "        qc.cx(control_q[control_index], target_q)\n",
    "    return qc"
   ]
  },
  {
   "cell_type": "code",
   "execution_count": 438,
   "id": "e56eef6c-9594-4a4a-9e25-ac96b6476832",
   "metadata": {
    "tags": []
   },
   "outputs": [],
   "source": [
    "# Here, we create an uniformly controlled RZ rotation gate\n",
    "def rotation_z(alpha, control_q, target_q):\n",
    "    # alpha = angles to decompose the uniformly-controlled rotation into multi-controlled rotations (Array)\n",
    "    # control_q = Array of control qubits\n",
    "    # target_q = index of target qubit\n",
    "    \n",
    "    qc = QuantumCircuit(len(control_q)+1)\n",
    "    theta = compute_theta(alpha)\n",
    "    gray_code_rank = len(control_q)\n",
    "    \n",
    "    if gray_code_rank == 0:\n",
    "        if theta[0] != 0.0:\n",
    "            qc.rz(theta[0], target_q)\n",
    "        return qc\n",
    "    \n",
    "    code = graycode(gray_code_rank)\n",
    "    num_selections = len(code)\n",
    "\n",
    "    control_indices = [int(np.log2(int(code[i], 2) ^ int(code[(i + 1) % num_selections], 2))) for i in range(num_selections)]\n",
    "\n",
    "    for i, control_index in enumerate(control_indices):\n",
    "        if theta[i] != 0.0:\n",
    "            qc.rz(theta[i], target_q)\n",
    "        qc.cx(control_q[control_index], target_q)\n",
    "    return qc"
   ]
  },
  {
   "cell_type": "code",
   "execution_count": 439,
   "id": "e87b2f0a-655e-4ac2-b405-4000c8d5367e",
   "metadata": {
    "tags": []
   },
   "outputs": [],
   "source": [
    "# Creates the Circuit which eventually provides us with Desired StateVector\n",
    "# Prepares an arbitrary state on the given wires using a decomposition into gates developed\n",
    "# by `Möttönen et al. (2004) <https://arxiv.org/abs/quant-ph/0407010>\n",
    "\n",
    "def initialize_state(state, qubits):\n",
    "    \n",
    "    state = state / np.linalg.norm(state)\n",
    "    a = np.absolute(state)\n",
    "    omega = np.angle(state)\n",
    "    qubits_rev = qubits[::-1]\n",
    "    qc = QuantumCircuit(len(qubits))\n",
    "\n",
    "        # Apply inverse y rotation cascade to prepare correct absolute values of amplitudes\n",
    "    for k in range(len(qubits_rev), 0, -1):\n",
    "        alpha_y_k = alpha_y(a, len(qubits_rev), k)\n",
    "        control = qubits_rev[k:]\n",
    "        target = qubits_rev[k - 1]\n",
    "        qc = qc.compose(rotation_y(alpha_y_k, control, target))\n",
    "\n",
    "        # If necessary, apply inverse z rotation cascade to prepare correct phases of amplitudes\n",
    "    if not qml.math.allclose(omega, 0):\n",
    "        for k in range(len(qubits_rev), 0, -1):\n",
    "            alpha_z_k = alpha_z(omega, len(qubits_rev), k)\n",
    "            control = qubits_rev[k:]\n",
    "            target = qubits_rev[k - 1]\n",
    "            if len(alpha_z_k) > 0:\n",
    "                qc = qc.compose(rotation_z(alpha_z_k, control, target))\n",
    "                \n",
    "    return qc"
   ]
  },
  {
   "cell_type": "code",
   "execution_count": 440,
   "id": "4c9fcb82-2ef2-4698-8994-27187f5f06cf",
   "metadata": {},
   "outputs": [
    {
     "data": {
      "image/png": "[encoded data removed]",
      "text/plain": [
       "<Figure size 1110x204.68 with 1 Axes>"
      ]
     },
     "execution_count": 440,
     "metadata": {},
     "output_type": "execute_result"
    }
   ],
   "source": [
    "# Quantum Circuit\n",
    "state = [1, 2j, 3, 4j, 5, 6j, 7, 8j]\n",
    "qc = initialize_state(state,[0,1,2])\n",
    "qc.draw()"
   ]
  }
 ],
 "metadata": {
  "kernelspec": {
   "display_name": "Python 3 (ipykernel)",
   "language": "python",
   "name": "python3"
  },
  "language_info": {
   "codemirror_mode": {
    "name": "ipython",
    "version": 3
   },
   "file_extension": ".py",
   "mimetype": "text/x-python",
   "name": "python",
   "nbconvert_exporter": "python",
   "pygments_lexer": "ipython3",
   "version": "3.8.13"
  },
  "widgets": {
   "application/vnd.jupyter.widget-state+json": {
    "state": {
     "129c41be85d34bff9fbdea6d8207dbcd": {
      "model_module": "@jupyter-widgets/base",
      "model_module_version": "1.2.0",
      "model_name": "LayoutModel",
      "state": {
       "width": "95px"
      }
     },
     "1aa26a893cae4fdab839a584469e3fce": {
      "model_module": "@jupyter-widgets/controls",
      "model_module_version": "1.5.0",
      "model_name": "HTMLModel",
      "state": {
       "layout": "IPY_MODEL_f6840de58a9440aea8d8cb71381e4a40",
       "style": "IPY_MODEL_553c80099a704f448b95ac8c95207573",
       "value": "<h5>Message</h5>"
      }
     },
     "1bb46672812f4f288cb5089dc30c4aa6": {
      "model_module": "@jupyter-widgets/controls",
      "model_module_version": "1.5.0",
      "model_name": "DescriptionStyleModel",
      "state": {
       "description_width": ""
      }
     },
     "296c60ca08ef4432ac7b821917a5a564": {
      "model_module": "@jupyter-widgets/controls",
      "model_module_version": "1.5.0",
      "model_name": "HTMLModel",
      "state": {
       "layout": "IPY_MODEL_129c41be85d34bff9fbdea6d8207dbcd",
       "style": "IPY_MODEL_92fb6ea84ef64a8a9466b7e3142f5bab",
       "value": "<h5>Status</h5>"
      }
     },
     "38adbc79e3da47dd8832d75ee6d636dd": {
      "model_module": "@jupyter-widgets/controls",
      "model_module_version": "1.5.0",
      "model_name": "ButtonModel",
      "state": {
       "button_style": "primary",
       "description": "Clear",
       "layout": "IPY_MODEL_50bff29ab3814ef6a6beaa5705c2378c",
       "style": "IPY_MODEL_caa0bd2d30d8478ba907cec5017cb14e"
      }
     },
     "50bff29ab3814ef6a6beaa5705c2378c": {
      "model_module": "@jupyter-widgets/base",
      "model_module_version": "1.2.0",
      "model_name": "LayoutModel",
      "state": {
       "grid_area": "right",
       "padding": "0px 0px 0px 0px",
       "width": "70px"
      }
     },
     "52f5db7541e0414a829c1ad77b36eb82": {
      "model_module": "@jupyter-widgets/controls",
      "model_module_version": "1.5.0",
      "model_name": "HTMLModel",
      "state": {
       "layout": "IPY_MODEL_5c37baf73a4743c88f4c574d2f025c45",
       "style": "IPY_MODEL_88933a3e557c4b8893524f5c88337888",
       "value": "<h5>Backend</h5>"
      }
     },
     "553c80099a704f448b95ac8c95207573": {
      "model_module": "@jupyter-widgets/controls",
      "model_module_version": "1.5.0",
      "model_name": "DescriptionStyleModel",
      "state": {
       "description_width": ""
      }
     },
     "5c37baf73a4743c88f4c574d2f025c45": {
      "model_module": "@jupyter-widgets/base",
      "model_module_version": "1.2.0",
      "model_name": "LayoutModel",
      "state": {
       "width": "145px"
      }
     },
     "679c1411ee1f47099af4d5c664f610c0": {
      "model_module": "@jupyter-widgets/controls",
      "model_module_version": "1.5.0",
      "model_name": "DescriptionStyleModel",
      "state": {
       "description_width": ""
      }
     },
     "6b5afdcf2de443d4a21bf7ff20609446": {
      "model_module": "@jupyter-widgets/controls",
      "model_module_version": "1.5.0",
      "model_name": "DescriptionStyleModel",
      "state": {
       "description_width": ""
      }
     },
     "6e2d61831e9147c7b3c1edb4762eecf2": {
      "model_module": "@jupyter-widgets/base",
      "model_module_version": "1.2.0",
      "model_name": "LayoutModel",
      "state": {
       "width": "190px"
      }
     },
     "7afbf1a1220a493b9a1e4b5729f72f03": {
      "model_module": "@jupyter-widgets/controls",
      "model_module_version": "1.5.0",
      "model_name": "HTMLModel",
      "state": {
       "layout": "IPY_MODEL_f4f4d63f8e7f4660ae829e6da12f6c91",
       "style": "IPY_MODEL_1bb46672812f4f288cb5089dc30c4aa6",
       "value": "<h5>Queue</h5>"
      }
     },
     "88933a3e557c4b8893524f5c88337888": {
      "model_module": "@jupyter-widgets/controls",
      "model_module_version": "1.5.0",
      "model_name": "DescriptionStyleModel",
      "state": {
       "description_width": ""
      }
     },
     "92fb6ea84ef64a8a9466b7e3142f5bab": {
      "model_module": "@jupyter-widgets/controls",
      "model_module_version": "1.5.0",
      "model_name": "DescriptionStyleModel",
      "state": {
       "description_width": ""
      }
     },
     "aaa6919d15214417b9cba8efd7bb56fc": {
      "model_module": "@jupyter-widgets/base",
      "model_module_version": "1.2.0",
      "model_name": "LayoutModel",
      "state": {
       "margin": "0px 0px 0px 37px",
       "width": "600px"
      }
     },
     "c1a00333b00b48f89fb2c4efa30adbe9": {
      "model_module": "@jupyter-widgets/controls",
      "model_module_version": "1.5.0",
      "model_name": "HTMLModel",
      "state": {
       "layout": "IPY_MODEL_f73af57366814dfeb430ec8400c547fd",
       "style": "IPY_MODEL_6b5afdcf2de443d4a21bf7ff20609446",
       "value": "<p style='font-family: IBM Plex Sans, Arial, Helvetica, sans-serif; font-size: 20px; font-weight: medium;'>Circuit Properties</p>"
      }
     },
     "caa0bd2d30d8478ba907cec5017cb14e": {
      "model_module": "@jupyter-widgets/controls",
      "model_module_version": "1.5.0",
      "model_name": "ButtonStyleModel",
      "state": {}
     },
     "d8a69f99ef974742acaf830825f42903": {
      "model_module": "@jupyter-widgets/controls",
      "model_module_version": "1.5.0",
      "model_name": "HBoxModel",
      "state": {
       "children": [
        "IPY_MODEL_e89a34e66a4c4936b0b5f095d498ebbe",
        "IPY_MODEL_52f5db7541e0414a829c1ad77b36eb82",
        "IPY_MODEL_296c60ca08ef4432ac7b821917a5a564",
        "IPY_MODEL_7afbf1a1220a493b9a1e4b5729f72f03",
        "IPY_MODEL_1aa26a893cae4fdab839a584469e3fce"
       ],
       "layout": "IPY_MODEL_aaa6919d15214417b9cba8efd7bb56fc"
      }
     },
     "e284b6c28ace44fdba48ca6325ac98e2": {
      "model_module": "@jupyter-widgets/base",
      "model_module_version": "1.2.0",
      "model_name": "LayoutModel",
      "state": {
       "grid_template_areas": "\n                                       \". . . . right \"\n                                        ",
       "grid_template_columns": "20% 20% 20% 20% 20%",
       "width": "100%"
      }
     },
     "e89a34e66a4c4936b0b5f095d498ebbe": {
      "model_module": "@jupyter-widgets/controls",
      "model_module_version": "1.5.0",
      "model_name": "HTMLModel",
      "state": {
       "layout": "IPY_MODEL_6e2d61831e9147c7b3c1edb4762eecf2",
       "style": "IPY_MODEL_679c1411ee1f47099af4d5c664f610c0",
       "value": "<h5>Job ID</h5>"
      }
     },
     "ebcc72ed6dae418ead970ee6a991b18c": {
      "model_module": "@jupyter-widgets/controls",
      "model_module_version": "1.5.0",
      "model_name": "GridBoxModel",
      "state": {
       "children": [
        "IPY_MODEL_38adbc79e3da47dd8832d75ee6d636dd"
       ],
       "layout": "IPY_MODEL_e284b6c28ace44fdba48ca6325ac98e2"
      }
     },
     "f4f4d63f8e7f4660ae829e6da12f6c91": {
      "model_module": "@jupyter-widgets/base",
      "model_module_version": "1.2.0",
      "model_name": "LayoutModel",
      "state": {
       "width": "70px"
      }
     },
     "f6840de58a9440aea8d8cb71381e4a40": {
      "model_module": "@jupyter-widgets/base",
      "model_module_version": "1.2.0",
      "model_name": "LayoutModel",
      "state": {}
     },
     "f73af57366814dfeb430ec8400c547fd": {
      "model_module": "@jupyter-widgets/base",
      "model_module_version": "1.2.0",
      "model_name": "LayoutModel",
      "state": {
       "margin": "0px 0px 10px 0px"
      }
     }
    },
    "version_major": 2,
    "version_minor": 0
   }
  }
 },
 "nbformat": 4,
 "nbformat_minor": 5
}
